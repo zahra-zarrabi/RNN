{
  "nbformat": 4,
  "nbformat_minor": 0,
  "metadata": {
    "colab": {
      "name": "Untitled0.ipynb",
      "provenance": [],
      "collapsed_sections": [],
      "mount_file_id": "1hYf-XurvRd3wMqtWSu0FEZukTwlxH-2Q",
      "authorship_tag": "ABX9TyMQf+eI6cYF8IsyaOW2k0w9",
      "include_colab_link": true
    },
    "kernelspec": {
      "name": "python3",
      "display_name": "Python 3"
    },
    "language_info": {
      "name": "python"
    },
    "accelerator": "GPU"
  },
  "cells": [
    {
      "cell_type": "markdown",
      "metadata": {
        "id": "view-in-github",
        "colab_type": "text"
      },
      "source": [
        "<a href=\"https://colab.research.google.com/github/zahra-zarrabi/RNN/blob/main/joon_del.ipynb\" target=\"_parent\"><img src=\"https://colab.research.google.com/assets/colab-badge.svg\" alt=\"Open In Colab\"/></a>"
      ]
    },
    {
      "cell_type": "code",
      "source": [
        "import os\n",
        "import cv2\n",
        "import numpy as np\n",
        "from sklearn.model_selection import train_test_split\n",
        "import tensorflow as tf\n",
        "from tensorflow.keras.layers import Conv2D, MaxPooling2D, SimpleRNN, GRU, LSTM, Dense, Flatten,Dropout,TimeDistributed"
      ],
      "metadata": {
        "id": "_OxncrPzyqW8"
      },
      "execution_count": 1,
      "outputs": []
    },
    {
      "cell_type": "code",
      "source": [
        "def count_video(video_path):\n",
        "  cap = cv2.VideoCapture(video_path)\n",
        "  return int(cap.get(cv2.CAP_PROP_FRAME_COUNT))"
      ],
      "metadata": {
        "id": "39DPZxbfbvNT"
      },
      "execution_count": 2,
      "outputs": []
    },
    {
      "cell_type": "code",
      "source": [
        "def read_video(video_path, height, width):\n",
        "  cap = cv2.VideoCapture(video_path)\n",
        "  frames = []\n",
        "  while True:\n",
        "    ret, frame = cap.read()\n",
        "    if not ret:\n",
        "        break\n",
        "    frame = cv2.resize(frame, (width, height))\n",
        "    frame = cv2.cvtColor(frame, cv2.COLOR_BGR2RGB)\n",
        "    frames.append(frame)\n",
        "  return np.array(frames, dtype='uint8'), len(frames)"
      ],
      "metadata": {
        "id": "P3AnJREuxSJp"
      },
      "execution_count": 3,
      "outputs": []
    },
    {
      "cell_type": "code",
      "source": [
        "dataset_path = \"/content/drive/MyDrive/joon_del\"\n",
        "classes_name = os.listdir(dataset_path)\n",
        "num_frames = []\n",
        "for class_name in classes_name:\n",
        "  videos_name = os.listdir(os.path.join(dataset_path, class_name))\n",
        "  for video_name in videos_name:\n",
        "    video_path = os.path.join(dataset_path, class_name, video_name)\n",
        "    num_frame = count_video(video_path)\n",
        "    num_frames.append(num_frame)\n",
        "max_frames = np.max(num_frames)"
      ],
      "metadata": {
        "id": "2CD4VPHAxRyL"
      },
      "execution_count": 4,
      "outputs": []
    },
    {
      "cell_type": "code",
      "source": [
        "print(max_frames)\n",
        "height = 112\n",
        "width = 112"
      ],
      "metadata": {
        "colab": {
          "base_uri": "https://localhost:8080/"
        },
        "id": "bawD8uKzzFkM",
        "outputId": "9766e217-8923-4864-ef38-a36818cca807"
      },
      "execution_count": 5,
      "outputs": [
        {
          "output_type": "stream",
          "name": "stdout",
          "text": [
            "316\n"
          ]
        }
      ]
    },
    {
      "cell_type": "code",
      "source": [
        "del num_frames"
      ],
      "metadata": {
        "id": "2a8TaNnzKzgh"
      },
      "execution_count": 6,
      "outputs": []
    },
    {
      "cell_type": "code",
      "source": [
        "X_frames = []\n",
        "Y = []\n",
        "for class_name in classes_name:\n",
        "  videos_name = os.listdir(os.path.join(dataset_path, class_name))\n",
        "  for video_name in videos_name:\n",
        "    video_path = os.path.join(dataset_path, class_name, video_name)\n",
        "    frames, num_frame = read_video(video_path, height, width)\n",
        "    padded_frames = np.zeros(shape=(max_frames, height, width, 3))\n",
        "    for i in range(num_frame):\n",
        "      padded_frames[i] = frames[i] / 255\n",
        "      # print(type(frames[i,0]))\n",
        "    X_frames.append(padded_frames)\n",
        "    Y.append(class_name)"
      ],
      "metadata": {
        "id": "5VOAGNfjxqG9"
      },
      "execution_count": 7,
      "outputs": []
    },
    {
      "cell_type": "code",
      "source": [
        "X_frames = np.array(X_frames,dtype=\"float32\")\n",
        "Y = np.array(Y, dtype=\"int8\")"
      ],
      "metadata": {
        "id": "2oyam9MTNvYT"
      },
      "execution_count": 8,
      "outputs": []
    },
    {
      "cell_type": "code",
      "source": [
        "print(X_frames.shape)\n",
        "print(Y.shape)"
      ],
      "metadata": {
        "colab": {
          "base_uri": "https://localhost:8080/"
        },
        "id": "QIJo9zxqgpxk",
        "outputId": "4c9e0d34-7553-4dbd-daf3-19ec1f2055ba"
      },
      "execution_count": 9,
      "outputs": [
        {
          "output_type": "stream",
          "name": "stdout",
          "text": [
            "(68, 316, 112, 112, 3)\n",
            "(68,)\n"
          ]
        }
      ]
    },
    {
      "cell_type": "code",
      "source": [
        "x_train,x_test,y_train,y_test = train_test_split(X_frames, Y,test_size=0.2)"
      ],
      "metadata": {
        "id": "2VsX_tFgjhyA"
      },
      "execution_count": 10,
      "outputs": []
    },
    {
      "cell_type": "code",
      "source": [
        "del X_frames\n",
        "del Y"
      ],
      "metadata": {
        "id": "5zIOoqRIDMSD"
      },
      "execution_count": 11,
      "outputs": []
    },
    {
      "cell_type": "code",
      "source": [
        "model = tf.keras.models.Sequential([\n",
        "            #CNN\n",
        "            TimeDistributed(Conv2D(32,(3,3),activation='relu',input_shape=(None, height, width, 3))),\n",
        "            # TimeDistributed(MaxPooling2D(pool_size=(2,2))),\n",
        "            TimeDistributed(Conv2D(16,(3,3),strides=(2,2),activation='relu')),\n",
        "            Dropout(0.4),\n",
        "            TimeDistributed(Flatten()),\n",
        "\n",
        "            #RNN\n",
        "            SimpleRNN(128),\n",
        "            Dense(2, activation='sigmoid')\n",
        "])"
      ],
      "metadata": {
        "id": "N19Dy7M_lzhC"
      },
      "execution_count": 12,
      "outputs": []
    },
    {
      "cell_type": "code",
      "source": [
        "model.compile(optimizer=tf.keras.optimizers.Adam(),\n",
        "              loss=tf.keras.losses.sparse_categorical_crossentropy,\n",
        "              metrics=['accuracy'])"
      ],
      "metadata": {
        "id": "dYXmn7Z-mB8k"
      },
      "execution_count": 13,
      "outputs": []
    },
    {
      "cell_type": "code",
      "source": [
        "model.fit(x_train,y_train, batch_size=1, epochs=40)"
      ],
      "metadata": {
        "colab": {
          "base_uri": "https://localhost:8080/"
        },
        "id": "kyCGRyxvsFJz",
        "outputId": "0b732b22-a427-4fee-a25e-be8bc76b1beb"
      },
      "execution_count": 14,
      "outputs": [
        {
          "output_type": "stream",
          "name": "stdout",
          "text": [
            "Epoch 1/40\n",
            "54/54 [==============================] - 51s 841ms/step - loss: 0.8032 - accuracy: 0.5000\n",
            "Epoch 2/40\n",
            "54/54 [==============================] - 45s 842ms/step - loss: 0.7632 - accuracy: 0.4630\n",
            "Epoch 3/40\n",
            "54/54 [==============================] - 43s 804ms/step - loss: 0.7466 - accuracy: 0.4074\n",
            "Epoch 4/40\n",
            "54/54 [==============================] - 42s 789ms/step - loss: 0.7205 - accuracy: 0.5370\n",
            "Epoch 5/40\n",
            "54/54 [==============================] - 43s 797ms/step - loss: 0.7530 - accuracy: 0.4259\n",
            "Epoch 6/40\n",
            "54/54 [==============================] - 44s 819ms/step - loss: 0.7352 - accuracy: 0.4815\n",
            "Epoch 7/40\n",
            "54/54 [==============================] - 42s 785ms/step - loss: 0.7380 - accuracy: 0.3889\n",
            "Epoch 8/40\n",
            "54/54 [==============================] - 41s 756ms/step - loss: 0.7956 - accuracy: 0.4815\n",
            "Epoch 9/40\n",
            "54/54 [==============================] - 43s 792ms/step - loss: 0.7204 - accuracy: 0.4074\n",
            "Epoch 10/40\n",
            "54/54 [==============================] - 43s 795ms/step - loss: 0.7080 - accuracy: 0.4630\n",
            "Epoch 11/40\n",
            "54/54 [==============================] - 43s 797ms/step - loss: 0.7376 - accuracy: 0.4630\n",
            "Epoch 12/40\n",
            "54/54 [==============================] - 40s 751ms/step - loss: 0.7407 - accuracy: 0.3148\n",
            "Epoch 13/40\n",
            "54/54 [==============================] - 41s 767ms/step - loss: 0.6936 - accuracy: 0.5741\n",
            "Epoch 14/40\n",
            "54/54 [==============================] - 42s 772ms/step - loss: 0.7182 - accuracy: 0.4630\n",
            "Epoch 15/40\n",
            "54/54 [==============================] - 41s 770ms/step - loss: 0.7224 - accuracy: 0.4444\n",
            "Epoch 16/40\n",
            "54/54 [==============================] - 45s 836ms/step - loss: 0.7301 - accuracy: 0.3519\n",
            "Epoch 17/40\n",
            "54/54 [==============================] - 45s 836ms/step - loss: 0.8353 - accuracy: 0.6667\n",
            "Epoch 18/40\n",
            "54/54 [==============================] - 42s 783ms/step - loss: 0.8861 - accuracy: 0.4815\n",
            "Epoch 19/40\n",
            "54/54 [==============================] - 41s 761ms/step - loss: 0.7437 - accuracy: 0.5370\n",
            "Epoch 20/40\n",
            "54/54 [==============================] - 42s 773ms/step - loss: 0.6877 - accuracy: 0.5741\n",
            "Epoch 21/40\n",
            "54/54 [==============================] - 42s 777ms/step - loss: 0.8636 - accuracy: 0.4444\n",
            "Epoch 22/40\n",
            "54/54 [==============================] - 42s 775ms/step - loss: 0.6453 - accuracy: 0.5926\n",
            "Epoch 23/40\n",
            "54/54 [==============================] - 40s 751ms/step - loss: 0.6901 - accuracy: 0.5556\n",
            "Epoch 24/40\n",
            "54/54 [==============================] - 45s 845ms/step - loss: 0.6956 - accuracy: 0.5556\n",
            "Epoch 25/40\n",
            "54/54 [==============================] - 41s 756ms/step - loss: 0.6588 - accuracy: 0.6296\n",
            "Epoch 26/40\n",
            "54/54 [==============================] - 42s 779ms/step - loss: 0.6690 - accuracy: 0.5741\n",
            "Epoch 27/40\n",
            "54/54 [==============================] - 43s 807ms/step - loss: 0.6776 - accuracy: 0.6667\n",
            "Epoch 28/40\n",
            "54/54 [==============================] - 44s 810ms/step - loss: 0.7090 - accuracy: 0.5741\n",
            "Epoch 29/40\n",
            "54/54 [==============================] - 43s 807ms/step - loss: 0.6723 - accuracy: 0.5926\n",
            "Epoch 30/40\n",
            "54/54 [==============================] - 43s 803ms/step - loss: 0.6808 - accuracy: 0.5556\n",
            "Epoch 31/40\n",
            "54/54 [==============================] - 41s 757ms/step - loss: 0.6603 - accuracy: 0.6111\n",
            "Epoch 32/40\n",
            "54/54 [==============================] - 41s 761ms/step - loss: 0.6530 - accuracy: 0.6296\n",
            "Epoch 33/40\n",
            "54/54 [==============================] - 43s 791ms/step - loss: 0.6547 - accuracy: 0.6111\n",
            "Epoch 34/40\n",
            "54/54 [==============================] - 41s 771ms/step - loss: 0.6288 - accuracy: 0.7037\n",
            "Epoch 35/40\n",
            "54/54 [==============================] - 43s 800ms/step - loss: 0.6898 - accuracy: 0.6296\n",
            "Epoch 36/40\n",
            "54/54 [==============================] - 41s 757ms/step - loss: 0.6391 - accuracy: 0.6667\n",
            "Epoch 37/40\n",
            "54/54 [==============================] - 44s 810ms/step - loss: 0.6273 - accuracy: 0.6111\n",
            "Epoch 38/40\n",
            "54/54 [==============================] - 40s 750ms/step - loss: 0.6749 - accuracy: 0.6296\n",
            "Epoch 39/40\n",
            "54/54 [==============================] - 41s 765ms/step - loss: 0.6671 - accuracy: 0.5926\n",
            "Epoch 40/40\n",
            "54/54 [==============================] - 43s 809ms/step - loss: 0.6617 - accuracy: 0.6667\n"
          ]
        },
        {
          "output_type": "execute_result",
          "data": {
            "text/plain": [
              "<keras.callbacks.History at 0x7f1d8025b550>"
            ]
          },
          "metadata": {},
          "execution_count": 14
        }
      ]
    },
    {
      "cell_type": "code",
      "source": [
        "del x_train\n",
        "del y_train"
      ],
      "metadata": {
        "id": "hPj93HpJHxVl"
      },
      "execution_count": 17,
      "outputs": []
    },
    {
      "cell_type": "code",
      "source": [
        "del class_name\n",
        "del dataset_path\n",
        "del classes_name"
      ],
      "metadata": {
        "id": "CIopgpfIdieG"
      },
      "execution_count": 18,
      "outputs": []
    },
    {
      "cell_type": "code",
      "source": [
        "del frames\n",
        "del padded_frames"
      ],
      "metadata": {
        "id": "jWSnmsVaXK9q"
      },
      "execution_count": 19,
      "outputs": []
    },
    {
      "cell_type": "code",
      "source": [
        "model.evaluate(x_test, y_test)"
      ],
      "metadata": {
        "id": "Ef-pfT3ZEbHT",
        "colab": {
          "base_uri": "https://localhost:8080/"
        },
        "outputId": "59a7c5dd-abf0-4f13-d649-092ed2f0df27"
      },
      "execution_count": 20,
      "outputs": [
        {
          "output_type": "stream",
          "name": "stdout",
          "text": [
            "1/1 [==============================] - 7s 7s/step - loss: 0.6529 - accuracy: 0.7143\n"
          ]
        },
        {
          "output_type": "execute_result",
          "data": {
            "text/plain": [
              "[0.6528682708740234, 0.7142857313156128]"
            ]
          },
          "metadata": {},
          "execution_count": 20
        }
      ]
    },
    {
      "cell_type": "code",
      "source": [
        "model.save_weights('/content/rnn_model.h5')"
      ],
      "metadata": {
        "id": "UbxXSno5P7Kv"
      },
      "execution_count": 15,
      "outputs": []
    },
    {
      "cell_type": "markdown",
      "source": [
        "# Inference"
      ],
      "metadata": {
        "id": "u2Hnuxvzvjv5"
      }
    },
    {
      "cell_type": "code",
      "source": [
        "def read_clip(video_path):\n",
        "  frames = []\n",
        "  cap = cv2.VideoCapture(video_path)\n",
        "  while True:\n",
        "    ret, frame = cap.read()\n",
        "    if not ret:\n",
        "        break\n",
        "    frame = cv2.resize(frame, (width, height))\n",
        "    frame = cv2.cvtColor(frame, cv2.COLOR_BGR2RGB)\n",
        "    frames.append(frame)\n",
        "  return np.array(frames, dtype='uint8'), len(frames)"
      ],
      "metadata": {
        "id": "pzu4b3W4vjSr"
      },
      "execution_count": 21,
      "outputs": []
    },
    {
      "cell_type": "code",
      "source": [
        "video_path = \"/content/drive/MyDrive/joon_del/0/006.mp4\"\n",
        "frames, num_frame = read_clip(video_path)\n",
        "padded_frames = np.zeros(shape=(max_frames, height, width, 3))\n",
        "for i in range(num_frame):\n",
        "  padded_frames[i] = frames[i] / 255\n",
        "  # print(type(frames[i,0]))\n",
        "\n"
      ],
      "metadata": {
        "id": "IxRUpb7p2zcQ"
      },
      "execution_count": 35,
      "outputs": []
    },
    {
      "cell_type": "code",
      "source": [
        "padded_frames = np.array(padded_frames[np.newaxis,...])"
      ],
      "metadata": {
        "id": "-jsbWF7rZ2I9"
      },
      "execution_count": 36,
      "outputs": []
    },
    {
      "cell_type": "code",
      "source": [
        "padded_frames.shape"
      ],
      "metadata": {
        "colab": {
          "base_uri": "https://localhost:8080/"
        },
        "id": "cidTlXFrZrVu",
        "outputId": "f306b7fb-a957-4437-c2e4-acdd16971c58"
      },
      "execution_count": 28,
      "outputs": [
        {
          "output_type": "execute_result",
          "data": {
            "text/plain": [
              "(1, 316, 112, 112, 3)"
            ]
          },
          "metadata": {},
          "execution_count": 28
        }
      ]
    },
    {
      "cell_type": "code",
      "source": [
        "model.predict(padded_frames)"
      ],
      "metadata": {
        "colab": {
          "base_uri": "https://localhost:8080/"
        },
        "id": "uVS6PiOjYM4z",
        "outputId": "886f83ae-9e70-408f-cafd-552722e8d2b2"
      },
      "execution_count": 37,
      "outputs": [
        {
          "output_type": "execute_result",
          "data": {
            "text/plain": [
              "array([[0.35953975, 0.27919644]], dtype=float32)"
            ]
          },
          "metadata": {},
          "execution_count": 37
        }
      ]
    }
  ]
}